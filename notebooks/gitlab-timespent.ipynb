{
 "cells": [
  {
   "cell_type": "markdown",
   "metadata": {},
   "source": [
    "#### Configurations"
   ]
  },
  {
   "cell_type": "code",
   "execution_count": 1,
   "metadata": {},
   "outputs": [],
   "source": [
    "GITLAB_URL='https://gitlab.com'\n",
    "GITLAB_ACCESS_TOKEN=''\n",
    "FILTER_DATE_BEGIN='2020-06-01'\n",
    "FILTER_DATE_END='2020-06-31'\n",
    "FILTER_MILESTONE='Bem1.7'\n",
    "FILTER_SEARCH='Bem'\n",
    "FILTER_AUTHOR=None\n",
    "FILTER_ONLY_MEMBER=True\n",
    "DEBUG=True"
   ]
  },
  {
   "cell_type": "code",
   "execution_count": 2,
   "metadata": {},
   "outputs": [],
   "source": [
    "SERVICE_COST_PER_HOUR=50\n",
    "PERSON_COST_PER_HOUR = {\n",
    "    \"flaviostutz\": 50\n",
    "}"
   ]
  },
  {
   "cell_type": "markdown",
   "metadata": {},
   "source": [
    "### Fetch data from Gitlab"
   ]
  },
  {
   "cell_type": "code",
   "execution_count": 3,
   "metadata": {},
   "outputs": [],
   "source": [
    "import pandas as pd\n",
    "import gitlab\n",
    "import modules.gitlabspent as gs\n",
    "gl = gitlab.Gitlab(GITLAB_URL, private_token=GITLAB_ACCESS_TOKEN)"
   ]
  },
  {
   "cell_type": "code",
   "execution_count": 4,
   "metadata": {},
   "outputs": [
    {
     "name": "stdout",
     "output_type": "stream",
     "text": [
      "Getting projects. search=Bem only_member=True\n",
      "\n",
      "Getting issues for project=Bem Promotions \n",
      "Getting issues for project=Bem MySQL \n",
      "Getting issues for project=Bem Frontend . . . . . . . . . . . . . . . . . . . . . . . . . . . . . . . . . . . . . . . . . . . . . . . . . . . . . . . . . . . . . . . . . . . . . . . . . . . . . . . . . . . . . . . . . . . . . . . \n",
      "Getting issues for project=Bem Backend . \n",
      "Getting issues for project=Bem estar Saúde . 2 time entries fetched\n"
     ]
    }
   ],
   "source": [
    "if GITLAB_ACCESS_TOKEN is None or GITLAB_ACCESS_TOKEN == '':\n",
    "  raise 'GITLAB_ACCESS_TOKEN is required'\n",
    "entries = gs.fetch_time_entries(gl, filter_by_author=FILTER_AUTHOR, filter_by_date_begin=FILTER_DATE_BEGIN, filter_by_date_end=FILTER_DATE_END, filter_by_project_membership=FILTER_ONLY_MEMBER, filter_by_search=FILTER_SEARCH, filter_by_milestone=FILTER_MILESTONE, debug=DEBUG)\n",
    "print('%s time entries fetched' %(len(entries)))"
   ]
  },
  {
   "cell_type": "code",
   "execution_count": 5,
   "metadata": {},
   "outputs": [],
   "source": [
    "df = pd.DataFrame()\n",
    "for e in entries[0]:\n",
    "  df = df.append(e, ignore_index=True)"
   ]
  },
  {
   "cell_type": "markdown",
   "metadata": {},
   "source": [
    "## Raw spend table"
   ]
  },
  {
   "cell_type": "code",
   "execution_count": 6,
   "metadata": {
    "scrolled": false
   },
   "outputs": [
    {
     "data": {
      "text/html": [
       "<style  type=\"text/css\" >\n",
       "    #T_49a6261e_ade1_11ea_b053_0242ac1e0002row0_col3 {\n",
       "            text-align:  left;\n",
       "        }    #T_49a6261e_ade1_11ea_b053_0242ac1e0002row1_col3 {\n",
       "            text-align:  left;\n",
       "        }    #T_49a6261e_ade1_11ea_b053_0242ac1e0002row2_col3 {\n",
       "            text-align:  left;\n",
       "        }    #T_49a6261e_ade1_11ea_b053_0242ac1e0002row3_col3 {\n",
       "            text-align:  left;\n",
       "        }    #T_49a6261e_ade1_11ea_b053_0242ac1e0002row4_col3 {\n",
       "            text-align:  left;\n",
       "        }    #T_49a6261e_ade1_11ea_b053_0242ac1e0002row5_col3 {\n",
       "            text-align:  left;\n",
       "        }    #T_49a6261e_ade1_11ea_b053_0242ac1e0002row6_col3 {\n",
       "            text-align:  left;\n",
       "        }    #T_49a6261e_ade1_11ea_b053_0242ac1e0002row7_col3 {\n",
       "            text-align:  left;\n",
       "        }    #T_49a6261e_ade1_11ea_b053_0242ac1e0002row8_col3 {\n",
       "            text-align:  left;\n",
       "        }    #T_49a6261e_ade1_11ea_b053_0242ac1e0002row9_col3 {\n",
       "            text-align:  left;\n",
       "        }</style><table id=\"T_49a6261e_ade1_11ea_b053_0242ac1e0002\" ><thead>    <tr>        <th class=\"blank level0\" ></th>        <th class=\"col_heading level0 col0\" >date</th>        <th class=\"col_heading level0 col1\" >duration</th>        <th class=\"col_heading level0 col2\" >issue_iid</th>        <th class=\"col_heading level0 col3\" >issue_title</th>        <th class=\"col_heading level0 col4\" >milestone_title</th>        <th class=\"col_heading level0 col5\" >note_author</th>    </tr></thead><tbody>\n",
       "                <tr>\n",
       "                        <th id=\"T_49a6261e_ade1_11ea_b053_0242ac1e0002level0_row0\" class=\"row_heading level0 row0\" >7</th>\n",
       "                        <td id=\"T_49a6261e_ade1_11ea_b053_0242ac1e0002row0_col0\" class=\"data row0 col0\" >2020-06-02</td>\n",
       "                        <td id=\"T_49a6261e_ade1_11ea_b053_0242ac1e0002row0_col1\" class=\"data row0 col1\" >2100</td>\n",
       "                        <td id=\"T_49a6261e_ade1_11ea_b053_0242ac1e0002row0_col2\" class=\"data row0 col2\" >84</td>\n",
       "                        <td id=\"T_49a6261e_ade1_11ea_b053_0242ac1e0002row0_col3\" class=\"data row0 col3\" >Permitir cadastramento com mesmo email e CPF caso usuário tenha perdido o tempo de validade do link de ativação da conta</td>\n",
       "                        <td id=\"T_49a6261e_ade1_11ea_b053_0242ac1e0002row0_col4\" class=\"data row0 col4\" >Bem1.7</td>\n",
       "                        <td id=\"T_49a6261e_ade1_11ea_b053_0242ac1e0002row0_col5\" class=\"data row0 col5\" >danismerim</td>\n",
       "            </tr>\n",
       "            <tr>\n",
       "                        <th id=\"T_49a6261e_ade1_11ea_b053_0242ac1e0002level0_row1\" class=\"row_heading level0 row1\" >5</th>\n",
       "                        <td id=\"T_49a6261e_ade1_11ea_b053_0242ac1e0002row1_col0\" class=\"data row1 col0\" >2020-06-05</td>\n",
       "                        <td id=\"T_49a6261e_ade1_11ea_b053_0242ac1e0002row1_col1\" class=\"data row1 col1\" >1200</td>\n",
       "                        <td id=\"T_49a6261e_ade1_11ea_b053_0242ac1e0002row1_col2\" class=\"data row1 col2\" >88</td>\n",
       "                        <td id=\"T_49a6261e_ade1_11ea_b053_0242ac1e0002row1_col3\" class=\"data row1 col3\" >\"página não encontrada\"</td>\n",
       "                        <td id=\"T_49a6261e_ade1_11ea_b053_0242ac1e0002row1_col4\" class=\"data row1 col4\" >Bem1.7</td>\n",
       "                        <td id=\"T_49a6261e_ade1_11ea_b053_0242ac1e0002row1_col5\" class=\"data row1 col5\" >danismerim</td>\n",
       "            </tr>\n",
       "            <tr>\n",
       "                        <th id=\"T_49a6261e_ade1_11ea_b053_0242ac1e0002level0_row2\" class=\"row_heading level0 row2\" >0</th>\n",
       "                        <td id=\"T_49a6261e_ade1_11ea_b053_0242ac1e0002row2_col0\" class=\"data row2 col0\" >2020-06-05</td>\n",
       "                        <td id=\"T_49a6261e_ade1_11ea_b053_0242ac1e0002row2_col1\" class=\"data row2 col1\" >3600</td>\n",
       "                        <td id=\"T_49a6261e_ade1_11ea_b053_0242ac1e0002row2_col2\" class=\"data row2 col2\" >93</td>\n",
       "                        <td id=\"T_49a6261e_ade1_11ea_b053_0242ac1e0002row2_col3\" class=\"data row2 col3\" >Excluir do mecanismo de busca perfis com hasPaid=false</td>\n",
       "                        <td id=\"T_49a6261e_ade1_11ea_b053_0242ac1e0002row2_col4\" class=\"data row2 col4\" >Bem1.7</td>\n",
       "                        <td id=\"T_49a6261e_ade1_11ea_b053_0242ac1e0002row2_col5\" class=\"data row2 col5\" >flaviostutz</td>\n",
       "            </tr>\n",
       "            <tr>\n",
       "                        <th id=\"T_49a6261e_ade1_11ea_b053_0242ac1e0002level0_row3\" class=\"row_heading level0 row3\" >2</th>\n",
       "                        <td id=\"T_49a6261e_ade1_11ea_b053_0242ac1e0002row3_col0\" class=\"data row3 col0\" >2020-06-05</td>\n",
       "                        <td id=\"T_49a6261e_ade1_11ea_b053_0242ac1e0002row3_col1\" class=\"data row3 col1\" >14400</td>\n",
       "                        <td id=\"T_49a6261e_ade1_11ea_b053_0242ac1e0002row3_col2\" class=\"data row3 col2\" >91</td>\n",
       "                        <td id=\"T_49a6261e_ade1_11ea_b053_0242ac1e0002row3_col3\" class=\"data row3 col3\" >Instalar kibana - pra não ficar público o perfil profissional ainda não aprovado</td>\n",
       "                        <td id=\"T_49a6261e_ade1_11ea_b053_0242ac1e0002row3_col4\" class=\"data row3 col4\" >Bem1.7</td>\n",
       "                        <td id=\"T_49a6261e_ade1_11ea_b053_0242ac1e0002row3_col5\" class=\"data row3 col5\" >flaviostutz</td>\n",
       "            </tr>\n",
       "            <tr>\n",
       "                        <th id=\"T_49a6261e_ade1_11ea_b053_0242ac1e0002level0_row4\" class=\"row_heading level0 row4\" >1</th>\n",
       "                        <td id=\"T_49a6261e_ade1_11ea_b053_0242ac1e0002row4_col0\" class=\"data row4 col0\" >2020-06-06</td>\n",
       "                        <td id=\"T_49a6261e_ade1_11ea_b053_0242ac1e0002row4_col1\" class=\"data row4 col1\" >1200</td>\n",
       "                        <td id=\"T_49a6261e_ade1_11ea_b053_0242ac1e0002row4_col2\" class=\"data row4 col2\" >92</td>\n",
       "                        <td id=\"T_49a6261e_ade1_11ea_b053_0242ac1e0002row4_col3\" class=\"data row4 col3\" >A busca de profissionais não é atualizada depois do profissional atualizar seus dados de perfil</td>\n",
       "                        <td id=\"T_49a6261e_ade1_11ea_b053_0242ac1e0002row4_col4\" class=\"data row4 col4\" >Bem1.7</td>\n",
       "                        <td id=\"T_49a6261e_ade1_11ea_b053_0242ac1e0002row4_col5\" class=\"data row4 col5\" >danismerim</td>\n",
       "            </tr>\n",
       "            <tr>\n",
       "                        <th id=\"T_49a6261e_ade1_11ea_b053_0242ac1e0002level0_row5\" class=\"row_heading level0 row5\" >6</th>\n",
       "                        <td id=\"T_49a6261e_ade1_11ea_b053_0242ac1e0002row5_col0\" class=\"data row5 col0\" >2020-06-06</td>\n",
       "                        <td id=\"T_49a6261e_ade1_11ea_b053_0242ac1e0002row5_col1\" class=\"data row5 col1\" >300</td>\n",
       "                        <td id=\"T_49a6261e_ade1_11ea_b053_0242ac1e0002row5_col2\" class=\"data row5 col2\" >86</td>\n",
       "                        <td id=\"T_49a6261e_ade1_11ea_b053_0242ac1e0002row5_col3\" class=\"data row5 col3\" >Perfil profissional - meus dados - edição não salva ao clicar no botão</td>\n",
       "                        <td id=\"T_49a6261e_ade1_11ea_b053_0242ac1e0002row5_col4\" class=\"data row5 col4\" >Bem1.7</td>\n",
       "                        <td id=\"T_49a6261e_ade1_11ea_b053_0242ac1e0002row5_col5\" class=\"data row5 col5\" >danismerim</td>\n",
       "            </tr>\n",
       "            <tr>\n",
       "                        <th id=\"T_49a6261e_ade1_11ea_b053_0242ac1e0002level0_row6\" class=\"row_heading level0 row6\" >3</th>\n",
       "                        <td id=\"T_49a6261e_ade1_11ea_b053_0242ac1e0002row6_col0\" class=\"data row6 col0\" >2020-06-11</td>\n",
       "                        <td id=\"T_49a6261e_ade1_11ea_b053_0242ac1e0002row6_col1\" class=\"data row6 col1\" >6000</td>\n",
       "                        <td id=\"T_49a6261e_ade1_11ea_b053_0242ac1e0002row6_col2\" class=\"data row6 col2\" >90</td>\n",
       "                        <td id=\"T_49a6261e_ade1_11ea_b053_0242ac1e0002row6_col3\" class=\"data row6 col3\" >Não permitir novo perfil profissional público antes de aprovação</td>\n",
       "                        <td id=\"T_49a6261e_ade1_11ea_b053_0242ac1e0002row6_col4\" class=\"data row6 col4\" >Bem1.7</td>\n",
       "                        <td id=\"T_49a6261e_ade1_11ea_b053_0242ac1e0002row6_col5\" class=\"data row6 col5\" >danismerim</td>\n",
       "            </tr>\n",
       "            <tr>\n",
       "                        <th id=\"T_49a6261e_ade1_11ea_b053_0242ac1e0002level0_row7\" class=\"row_heading level0 row7\" >4</th>\n",
       "                        <td id=\"T_49a6261e_ade1_11ea_b053_0242ac1e0002row7_col0\" class=\"data row7 col0\" >2020-06-12</td>\n",
       "                        <td id=\"T_49a6261e_ade1_11ea_b053_0242ac1e0002row7_col1\" class=\"data row7 col1\" >3600</td>\n",
       "                        <td id=\"T_49a6261e_ade1_11ea_b053_0242ac1e0002row7_col2\" class=\"data row7 col2\" >89</td>\n",
       "                        <td id=\"T_49a6261e_ade1_11ea_b053_0242ac1e0002row7_col3\" class=\"data row7 col3\" >Notificação refere-se a todos como \"médico\" (e no masculino)</td>\n",
       "                        <td id=\"T_49a6261e_ade1_11ea_b053_0242ac1e0002row7_col4\" class=\"data row7 col4\" >Bem1.7</td>\n",
       "                        <td id=\"T_49a6261e_ade1_11ea_b053_0242ac1e0002row7_col5\" class=\"data row7 col5\" >wedla1</td>\n",
       "            </tr>\n",
       "            <tr>\n",
       "                        <th id=\"T_49a6261e_ade1_11ea_b053_0242ac1e0002level0_row8\" class=\"row_heading level0 row8\" >8</th>\n",
       "                        <td id=\"T_49a6261e_ade1_11ea_b053_0242ac1e0002row8_col0\" class=\"data row8 col0\" >2020-06-12</td>\n",
       "                        <td id=\"T_49a6261e_ade1_11ea_b053_0242ac1e0002row8_col1\" class=\"data row8 col1\" >900</td>\n",
       "                        <td id=\"T_49a6261e_ade1_11ea_b053_0242ac1e0002row8_col2\" class=\"data row8 col2\" >37</td>\n",
       "                        <td id=\"T_49a6261e_ade1_11ea_b053_0242ac1e0002row8_col3\" class=\"data row8 col3\" >alterar textos: \"Confirmação\" para \"validação\"</td>\n",
       "                        <td id=\"T_49a6261e_ade1_11ea_b053_0242ac1e0002row8_col4\" class=\"data row8 col4\" >Bem1.7</td>\n",
       "                        <td id=\"T_49a6261e_ade1_11ea_b053_0242ac1e0002row8_col5\" class=\"data row8 col5\" >wedla1</td>\n",
       "            </tr>\n",
       "            <tr>\n",
       "                        <th id=\"T_49a6261e_ade1_11ea_b053_0242ac1e0002level0_row9\" class=\"row_heading level0 row9\" >9</th>\n",
       "                        <td id=\"T_49a6261e_ade1_11ea_b053_0242ac1e0002row9_col0\" class=\"data row9 col0\" >2020-06-12</td>\n",
       "                        <td id=\"T_49a6261e_ade1_11ea_b053_0242ac1e0002row9_col1\" class=\"data row9 col1\" >900</td>\n",
       "                        <td id=\"T_49a6261e_ade1_11ea_b053_0242ac1e0002row9_col2\" class=\"data row9 col2\" >28</td>\n",
       "                        <td id=\"T_49a6261e_ade1_11ea_b053_0242ac1e0002row9_col3\" class=\"data row9 col3\" >Profissional - Ao escrever relatório - tirar obrigatoriedade do campo \"observações\"</td>\n",
       "                        <td id=\"T_49a6261e_ade1_11ea_b053_0242ac1e0002row9_col4\" class=\"data row9 col4\" >Bem1.7</td>\n",
       "                        <td id=\"T_49a6261e_ade1_11ea_b053_0242ac1e0002row9_col5\" class=\"data row9 col5\" >wedla1</td>\n",
       "            </tr>\n",
       "    </tbody></table>"
      ],
      "text/plain": [
       "<pandas.io.formats.style.Styler at 0x7f4bd1860c70>"
      ]
     },
     "metadata": {},
     "output_type": "display_data"
    }
   ],
   "source": [
    "df = df.sort_values(['date','note_author'])\n",
    "df2 = df.astype({\"duration\": int, \"issue_iid\": int})\n",
    "# df2['duration'] = df2['duration'].map(gs.format_duration)\n",
    "df2s = df2.style.set_properties(**{'text-align': 'left'}, subset=pd.IndexSlice[:, ['issue_title']])\n",
    "display(df2s)"
   ]
  },
  {
   "cell_type": "markdown",
   "metadata": {},
   "source": [
    "# Service cost by issue"
   ]
  },
  {
   "cell_type": "code",
   "execution_count": 7,
   "metadata": {},
   "outputs": [
    {
     "name": "stdout",
     "output_type": "stream",
     "text": [
      "\n"
     ]
    },
    {
     "data": {
      "text/markdown": [
       "## Milestone Bem1.7"
      ],
      "text/plain": [
       "<IPython.core.display.Markdown object>"
      ]
     },
     "metadata": {},
     "output_type": "display_data"
    },
    {
     "data": {
      "text/markdown": [
       "### Period: 2020-06-01 to 2020-06-31"
      ],
      "text/plain": [
       "<IPython.core.display.Markdown object>"
      ]
     },
     "metadata": {},
     "output_type": "display_data"
    },
    {
     "data": {
      "text/markdown": [
       "Price: 50.00/h"
      ],
      "text/plain": [
       "<IPython.core.display.Markdown object>"
      ]
     },
     "metadata": {},
     "output_type": "display_data"
    },
    {
     "data": {
      "text/html": [
       "<style  type=\"text/css\" >\n",
       "    #T_49b02236_ade1_11ea_b053_0242ac1e0002row0_col1 {\n",
       "            text-align:  left;\n",
       "        }    #T_49b02236_ade1_11ea_b053_0242ac1e0002row1_col1 {\n",
       "            text-align:  left;\n",
       "        }    #T_49b02236_ade1_11ea_b053_0242ac1e0002row2_col1 {\n",
       "            text-align:  left;\n",
       "        }    #T_49b02236_ade1_11ea_b053_0242ac1e0002row3_col1 {\n",
       "            text-align:  left;\n",
       "        }    #T_49b02236_ade1_11ea_b053_0242ac1e0002row4_col1 {\n",
       "            text-align:  left;\n",
       "        }    #T_49b02236_ade1_11ea_b053_0242ac1e0002row5_col1 {\n",
       "            text-align:  left;\n",
       "        }    #T_49b02236_ade1_11ea_b053_0242ac1e0002row6_col1 {\n",
       "            text-align:  left;\n",
       "        }    #T_49b02236_ade1_11ea_b053_0242ac1e0002row7_col1 {\n",
       "            text-align:  left;\n",
       "        }    #T_49b02236_ade1_11ea_b053_0242ac1e0002row8_col1 {\n",
       "            text-align:  left;\n",
       "        }    #T_49b02236_ade1_11ea_b053_0242ac1e0002row9_col1 {\n",
       "            text-align:  left;\n",
       "        }</style><table id=\"T_49b02236_ade1_11ea_b053_0242ac1e0002\" ><thead>    <tr>        <th class=\"blank level0\" ></th>        <th class=\"col_heading level0 col0\" >issue_iid</th>        <th class=\"col_heading level0 col1\" >issue_title</th>        <th class=\"col_heading level0 col2\" >duration</th>        <th class=\"col_heading level0 col3\" >cost</th>    </tr></thead><tbody>\n",
       "                <tr>\n",
       "                        <th id=\"T_49b02236_ade1_11ea_b053_0242ac1e0002level0_row0\" class=\"row_heading level0 row0\" >0</th>\n",
       "                        <td id=\"T_49b02236_ade1_11ea_b053_0242ac1e0002row0_col0\" class=\"data row0 col0\" >91</td>\n",
       "                        <td id=\"T_49b02236_ade1_11ea_b053_0242ac1e0002row0_col1\" class=\"data row0 col1\" >Instalar kibana - pra não ficar público o perfil profissional ainda não aprovado</td>\n",
       "                        <td id=\"T_49b02236_ade1_11ea_b053_0242ac1e0002row0_col2\" class=\"data row0 col2\" >4h 0m</td>\n",
       "                        <td id=\"T_49b02236_ade1_11ea_b053_0242ac1e0002row0_col3\" class=\"data row0 col3\" >200.00</td>\n",
       "            </tr>\n",
       "            <tr>\n",
       "                        <th id=\"T_49b02236_ade1_11ea_b053_0242ac1e0002level0_row1\" class=\"row_heading level0 row1\" >1</th>\n",
       "                        <td id=\"T_49b02236_ade1_11ea_b053_0242ac1e0002row1_col0\" class=\"data row1 col0\" >90</td>\n",
       "                        <td id=\"T_49b02236_ade1_11ea_b053_0242ac1e0002row1_col1\" class=\"data row1 col1\" >Não permitir novo perfil profissional público antes de aprovação</td>\n",
       "                        <td id=\"T_49b02236_ade1_11ea_b053_0242ac1e0002row1_col2\" class=\"data row1 col2\" >1h 40m</td>\n",
       "                        <td id=\"T_49b02236_ade1_11ea_b053_0242ac1e0002row1_col3\" class=\"data row1 col3\" >83.33</td>\n",
       "            </tr>\n",
       "            <tr>\n",
       "                        <th id=\"T_49b02236_ade1_11ea_b053_0242ac1e0002level0_row2\" class=\"row_heading level0 row2\" >2</th>\n",
       "                        <td id=\"T_49b02236_ade1_11ea_b053_0242ac1e0002row2_col0\" class=\"data row2 col0\" >93</td>\n",
       "                        <td id=\"T_49b02236_ade1_11ea_b053_0242ac1e0002row2_col1\" class=\"data row2 col1\" >Excluir do mecanismo de busca perfis com hasPaid=false</td>\n",
       "                        <td id=\"T_49b02236_ade1_11ea_b053_0242ac1e0002row2_col2\" class=\"data row2 col2\" >1h 0m</td>\n",
       "                        <td id=\"T_49b02236_ade1_11ea_b053_0242ac1e0002row2_col3\" class=\"data row2 col3\" >50.00</td>\n",
       "            </tr>\n",
       "            <tr>\n",
       "                        <th id=\"T_49b02236_ade1_11ea_b053_0242ac1e0002level0_row3\" class=\"row_heading level0 row3\" >3</th>\n",
       "                        <td id=\"T_49b02236_ade1_11ea_b053_0242ac1e0002row3_col0\" class=\"data row3 col0\" >89</td>\n",
       "                        <td id=\"T_49b02236_ade1_11ea_b053_0242ac1e0002row3_col1\" class=\"data row3 col1\" >Notificação refere-se a todos como \"médico\" (e no masculino)</td>\n",
       "                        <td id=\"T_49b02236_ade1_11ea_b053_0242ac1e0002row3_col2\" class=\"data row3 col2\" >1h 0m</td>\n",
       "                        <td id=\"T_49b02236_ade1_11ea_b053_0242ac1e0002row3_col3\" class=\"data row3 col3\" >50.00</td>\n",
       "            </tr>\n",
       "            <tr>\n",
       "                        <th id=\"T_49b02236_ade1_11ea_b053_0242ac1e0002level0_row4\" class=\"row_heading level0 row4\" >4</th>\n",
       "                        <td id=\"T_49b02236_ade1_11ea_b053_0242ac1e0002row4_col0\" class=\"data row4 col0\" >84</td>\n",
       "                        <td id=\"T_49b02236_ade1_11ea_b053_0242ac1e0002row4_col1\" class=\"data row4 col1\" >Permitir cadastramento com mesmo email e CPF caso usuário tenha perdido o tempo de validade do link de ativação da conta</td>\n",
       "                        <td id=\"T_49b02236_ade1_11ea_b053_0242ac1e0002row4_col2\" class=\"data row4 col2\" >0h 35m</td>\n",
       "                        <td id=\"T_49b02236_ade1_11ea_b053_0242ac1e0002row4_col3\" class=\"data row4 col3\" >29.17</td>\n",
       "            </tr>\n",
       "            <tr>\n",
       "                        <th id=\"T_49b02236_ade1_11ea_b053_0242ac1e0002level0_row5\" class=\"row_heading level0 row5\" >5</th>\n",
       "                        <td id=\"T_49b02236_ade1_11ea_b053_0242ac1e0002row5_col0\" class=\"data row5 col0\" >92</td>\n",
       "                        <td id=\"T_49b02236_ade1_11ea_b053_0242ac1e0002row5_col1\" class=\"data row5 col1\" >A busca de profissionais não é atualizada depois do profissional atualizar seus dados de perfil</td>\n",
       "                        <td id=\"T_49b02236_ade1_11ea_b053_0242ac1e0002row5_col2\" class=\"data row5 col2\" >0h 20m</td>\n",
       "                        <td id=\"T_49b02236_ade1_11ea_b053_0242ac1e0002row5_col3\" class=\"data row5 col3\" >16.67</td>\n",
       "            </tr>\n",
       "            <tr>\n",
       "                        <th id=\"T_49b02236_ade1_11ea_b053_0242ac1e0002level0_row6\" class=\"row_heading level0 row6\" >6</th>\n",
       "                        <td id=\"T_49b02236_ade1_11ea_b053_0242ac1e0002row6_col0\" class=\"data row6 col0\" >88</td>\n",
       "                        <td id=\"T_49b02236_ade1_11ea_b053_0242ac1e0002row6_col1\" class=\"data row6 col1\" >\"página não encontrada\"</td>\n",
       "                        <td id=\"T_49b02236_ade1_11ea_b053_0242ac1e0002row6_col2\" class=\"data row6 col2\" >0h 20m</td>\n",
       "                        <td id=\"T_49b02236_ade1_11ea_b053_0242ac1e0002row6_col3\" class=\"data row6 col3\" >16.67</td>\n",
       "            </tr>\n",
       "            <tr>\n",
       "                        <th id=\"T_49b02236_ade1_11ea_b053_0242ac1e0002level0_row7\" class=\"row_heading level0 row7\" >7</th>\n",
       "                        <td id=\"T_49b02236_ade1_11ea_b053_0242ac1e0002row7_col0\" class=\"data row7 col0\" >37</td>\n",
       "                        <td id=\"T_49b02236_ade1_11ea_b053_0242ac1e0002row7_col1\" class=\"data row7 col1\" >alterar textos: \"Confirmação\" para \"validação\"</td>\n",
       "                        <td id=\"T_49b02236_ade1_11ea_b053_0242ac1e0002row7_col2\" class=\"data row7 col2\" >0h 15m</td>\n",
       "                        <td id=\"T_49b02236_ade1_11ea_b053_0242ac1e0002row7_col3\" class=\"data row7 col3\" >12.50</td>\n",
       "            </tr>\n",
       "            <tr>\n",
       "                        <th id=\"T_49b02236_ade1_11ea_b053_0242ac1e0002level0_row8\" class=\"row_heading level0 row8\" >8</th>\n",
       "                        <td id=\"T_49b02236_ade1_11ea_b053_0242ac1e0002row8_col0\" class=\"data row8 col0\" >28</td>\n",
       "                        <td id=\"T_49b02236_ade1_11ea_b053_0242ac1e0002row8_col1\" class=\"data row8 col1\" >Profissional - Ao escrever relatório - tirar obrigatoriedade do campo \"observações\"</td>\n",
       "                        <td id=\"T_49b02236_ade1_11ea_b053_0242ac1e0002row8_col2\" class=\"data row8 col2\" >0h 15m</td>\n",
       "                        <td id=\"T_49b02236_ade1_11ea_b053_0242ac1e0002row8_col3\" class=\"data row8 col3\" >12.50</td>\n",
       "            </tr>\n",
       "            <tr>\n",
       "                        <th id=\"T_49b02236_ade1_11ea_b053_0242ac1e0002level0_row9\" class=\"row_heading level0 row9\" >9</th>\n",
       "                        <td id=\"T_49b02236_ade1_11ea_b053_0242ac1e0002row9_col0\" class=\"data row9 col0\" >86</td>\n",
       "                        <td id=\"T_49b02236_ade1_11ea_b053_0242ac1e0002row9_col1\" class=\"data row9 col1\" >Perfil profissional - meus dados - edição não salva ao clicar no botão</td>\n",
       "                        <td id=\"T_49b02236_ade1_11ea_b053_0242ac1e0002row9_col2\" class=\"data row9 col2\" >0h 5m</td>\n",
       "                        <td id=\"T_49b02236_ade1_11ea_b053_0242ac1e0002row9_col3\" class=\"data row9 col3\" >4.17</td>\n",
       "            </tr>\n",
       "    </tbody></table>"
      ],
      "text/plain": [
       "<pandas.io.formats.style.Styler at 0x7f4bd189a100>"
      ]
     },
     "metadata": {},
     "output_type": "display_data"
    },
    {
     "data": {
      "text/markdown": [
       "### Total cost:     475.00"
      ],
      "text/plain": [
       "<IPython.core.display.Markdown object>"
      ]
     },
     "metadata": {},
     "output_type": "display_data"
    },
    {
     "data": {
      "text/markdown": [
       "Total duration: 9h 30m"
      ],
      "text/plain": [
       "<IPython.core.display.Markdown object>"
      ]
     },
     "metadata": {},
     "output_type": "display_data"
    },
    {
     "name": "stdout",
     "output_type": "stream",
     "text": [
      "\n"
     ]
    }
   ],
   "source": [
    "from IPython.display import display, Markdown\n",
    "if FILTER_MILESTONE!=None:    \n",
    "  df3 = df2.groupby(['issue_iid','issue_title'])\n",
    "else:\n",
    "  df3 = df2.groupby(['milestone_title', 'issue_iid','issue_title'])    \n",
    "df4 = df3['duration'].sum()\n",
    "df5 = pd.DataFrame(df4)\n",
    "df5 = df5.sort_values(['duration','issue_iid'], ascending=False)\n",
    "df5['cost'] = df5['duration'] * (SERVICE_COST_PER_HOUR/3600)\n",
    "\n",
    "df6 = df5.copy()\n",
    "df6['cost'] = df6['cost'].apply(lambda x: '%.2f' %x)\n",
    "df6 = df6.reset_index()\n",
    "print('')\n",
    "if FILTER_MILESTONE!=None:\n",
    "  display(Markdown('## Milestone %s' %FILTER_MILESTONE))  \n",
    "display(Markdown('### Period: %s to %s' %(FILTER_DATE_BEGIN, FILTER_DATE_END)))\n",
    "display(Markdown('Price: %.2f/h' %(SERVICE_COST_PER_HOUR)))\n",
    "df6['duration'] = df6['duration'].apply(gs.format_duration)\n",
    "df6s = df6.style.set_properties(**{'text-align': 'left'}, subset=pd.IndexSlice[:, ['issue_title']])\n",
    "display(df6s)\n",
    "\n",
    "display(Markdown('### Total cost:     %.2f' %df5['cost'].sum()))\n",
    "display(Markdown('Total duration: %s' %gs.format_duration(df5['duration'].sum())))\n",
    "print('')"
   ]
  },
  {
   "cell_type": "markdown",
   "metadata": {},
   "source": [
    "# Total spent by person"
   ]
  },
  {
   "cell_type": "code",
   "execution_count": 8,
   "metadata": {},
   "outputs": [
    {
     "data": {
      "text/html": [
       "<div>\n",
       "<style scoped>\n",
       "    .dataframe tbody tr th:only-of-type {\n",
       "        vertical-align: middle;\n",
       "    }\n",
       "\n",
       "    .dataframe tbody tr th {\n",
       "        vertical-align: top;\n",
       "    }\n",
       "\n",
       "    .dataframe thead th {\n",
       "        text-align: right;\n",
       "    }\n",
       "</style>\n",
       "<table border=\"1\" class=\"dataframe\">\n",
       "  <thead>\n",
       "    <tr style=\"text-align: right;\">\n",
       "      <th></th>\n",
       "      <th>note_author</th>\n",
       "      <th>duration</th>\n",
       "    </tr>\n",
       "  </thead>\n",
       "  <tbody>\n",
       "    <tr>\n",
       "      <th>0</th>\n",
       "      <td>flaviostutz</td>\n",
       "      <td>5h 0m</td>\n",
       "    </tr>\n",
       "    <tr>\n",
       "      <th>1</th>\n",
       "      <td>danismerim</td>\n",
       "      <td>3h 0m</td>\n",
       "    </tr>\n",
       "    <tr>\n",
       "      <th>2</th>\n",
       "      <td>wedla1</td>\n",
       "      <td>1h 30m</td>\n",
       "    </tr>\n",
       "  </tbody>\n",
       "</table>\n",
       "</div>"
      ],
      "text/plain": [
       "   note_author duration\n",
       "0  flaviostutz    5h 0m\n",
       "1   danismerim    3h 0m\n",
       "2       wedla1   1h 30m"
      ]
     },
     "metadata": {},
     "output_type": "display_data"
    }
   ],
   "source": [
    "df3 = df2.groupby(['note_author'])\n",
    "df4 = df3['duration'].sum()\n",
    "df5 = pd.DataFrame(df4)\n",
    "df5 = df5.sort_values(['duration'], ascending=False)\n",
    "df5 = df5.reset_index()\n",
    "# df5['cost'] = df5['duration'] * (PERSON_COST_PER_HOUR.get(df5['note_author'].str)/3600)\n",
    "# df5['cost'] = df5['cost'].apply(lambda x: '%.2f' %x)\n",
    "df6 = df5.copy()\n",
    "df6['duration'] = df6['duration'].apply(gs.format_duration)\n",
    "display(df6)"
   ]
  },
  {
   "cell_type": "code",
   "execution_count": 9,
   "metadata": {
    "scrolled": false
   },
   "outputs": [
    {
     "name": "stdout",
     "output_type": "stream",
     "text": [
      "\n"
     ]
    },
    {
     "data": {
      "text/markdown": [
       "### @flaviostutz"
      ],
      "text/plain": [
       "<IPython.core.display.Markdown object>"
      ]
     },
     "metadata": {},
     "output_type": "display_data"
    },
    {
     "data": {
      "text/markdown": [
       "Period: 2020-06-01 to 2020-06-31"
      ],
      "text/plain": [
       "<IPython.core.display.Markdown object>"
      ]
     },
     "metadata": {},
     "output_type": "display_data"
    },
    {
     "data": {
      "text/markdown": [
       "Cost: 50.00/h"
      ],
      "text/plain": [
       "<IPython.core.display.Markdown object>"
      ]
     },
     "metadata": {},
     "output_type": "display_data"
    },
    {
     "data": {
      "text/html": [
       "<style  type=\"text/css\" >\n",
       "    #T_49c02ab4_ade1_11ea_b053_0242ac1e0002row0_col1 {\n",
       "            text-align:  left;\n",
       "        }    #T_49c02ab4_ade1_11ea_b053_0242ac1e0002row1_col1 {\n",
       "            text-align:  left;\n",
       "        }</style><table id=\"T_49c02ab4_ade1_11ea_b053_0242ac1e0002\" ><thead>    <tr>        <th class=\"blank level0\" ></th>        <th class=\"col_heading level0 col0\" >issue_iid</th>        <th class=\"col_heading level0 col1\" >issue_title</th>        <th class=\"col_heading level0 col2\" >milestone_title</th>        <th class=\"col_heading level0 col3\" >duration</th>        <th class=\"col_heading level0 col4\" >cost</th>    </tr></thead><tbody>\n",
       "                <tr>\n",
       "                        <th id=\"T_49c02ab4_ade1_11ea_b053_0242ac1e0002level0_row0\" class=\"row_heading level0 row0\" >0</th>\n",
       "                        <td id=\"T_49c02ab4_ade1_11ea_b053_0242ac1e0002row0_col0\" class=\"data row0 col0\" >91</td>\n",
       "                        <td id=\"T_49c02ab4_ade1_11ea_b053_0242ac1e0002row0_col1\" class=\"data row0 col1\" >Instalar kibana - pra não ficar público o perfil profissional ainda não aprovado</td>\n",
       "                        <td id=\"T_49c02ab4_ade1_11ea_b053_0242ac1e0002row0_col2\" class=\"data row0 col2\" >Bem1.7</td>\n",
       "                        <td id=\"T_49c02ab4_ade1_11ea_b053_0242ac1e0002row0_col3\" class=\"data row0 col3\" >4h 0m</td>\n",
       "                        <td id=\"T_49c02ab4_ade1_11ea_b053_0242ac1e0002row0_col4\" class=\"data row0 col4\" >200.00</td>\n",
       "            </tr>\n",
       "            <tr>\n",
       "                        <th id=\"T_49c02ab4_ade1_11ea_b053_0242ac1e0002level0_row1\" class=\"row_heading level0 row1\" >1</th>\n",
       "                        <td id=\"T_49c02ab4_ade1_11ea_b053_0242ac1e0002row1_col0\" class=\"data row1 col0\" >93</td>\n",
       "                        <td id=\"T_49c02ab4_ade1_11ea_b053_0242ac1e0002row1_col1\" class=\"data row1 col1\" >Excluir do mecanismo de busca perfis com hasPaid=false</td>\n",
       "                        <td id=\"T_49c02ab4_ade1_11ea_b053_0242ac1e0002row1_col2\" class=\"data row1 col2\" >Bem1.7</td>\n",
       "                        <td id=\"T_49c02ab4_ade1_11ea_b053_0242ac1e0002row1_col3\" class=\"data row1 col3\" >1h 0m</td>\n",
       "                        <td id=\"T_49c02ab4_ade1_11ea_b053_0242ac1e0002row1_col4\" class=\"data row1 col4\" >50.00</td>\n",
       "            </tr>\n",
       "    </tbody></table>"
      ],
      "text/plain": [
       "<pandas.io.formats.style.Styler at 0x7f4bd17d9c40>"
      ]
     },
     "metadata": {},
     "output_type": "display_data"
    },
    {
     "data": {
      "text/markdown": [
       "#### Total: 250.00"
      ],
      "text/plain": [
       "<IPython.core.display.Markdown object>"
      ]
     },
     "metadata": {},
     "output_type": "display_data"
    },
    {
     "name": "stdout",
     "output_type": "stream",
     "text": [
      "\n",
      "\n"
     ]
    },
    {
     "data": {
      "text/markdown": [
       "### @danismerim"
      ],
      "text/plain": [
       "<IPython.core.display.Markdown object>"
      ]
     },
     "metadata": {},
     "output_type": "display_data"
    },
    {
     "name": "stdout",
     "output_type": "stream",
     "text": [
      "No cost per hour set\n",
      "\n"
     ]
    },
    {
     "data": {
      "text/markdown": [
       "### @wedla1"
      ],
      "text/plain": [
       "<IPython.core.display.Markdown object>"
      ]
     },
     "metadata": {},
     "output_type": "display_data"
    },
    {
     "name": "stdout",
     "output_type": "stream",
     "text": [
      "No cost per hour set\n"
     ]
    }
   ],
   "source": [
    "for v in df5['note_author']:\n",
    "  print('')\n",
    "  display(Markdown('### @%s' %(v)))\n",
    "  if not v in PERSON_COST_PER_HOUR:\n",
    "    print('No cost per hour set')\n",
    "    continue\n",
    "  display(Markdown('Period: %s to %s' %(FILTER_DATE_BEGIN, FILTER_DATE_END)))\n",
    "  cost_per_hour = PERSON_COST_PER_HOUR.get(v)\n",
    "  display(Markdown('Cost: %.2f/h' %(cost_per_hour)))\n",
    "\n",
    "  df3 = df2[df2['note_author'].str.contains(v)]\n",
    "  df3 = df3.drop(['note_author', 'date'], axis=1)\n",
    "  df3g = df3.groupby(['issue_iid','issue_title','milestone_title'])\n",
    "  df6 = df3g['duration'].sum()\n",
    "  df6 = pd.DataFrame(df6)\n",
    "    \n",
    "  df6 = df6.sort_values(['duration','issue_iid'], ascending=False)\n",
    "  df6['cost'] = df6['duration'] * (cost_per_hour/3600)\n",
    "    \n",
    "  df6 = df6.copy()\n",
    "  total_cost = df6['cost'].sum()\n",
    "  df6['cost'] = df6['cost'].apply(lambda x: '%.2f' %x)\n",
    "  df6['duration'] = df6['duration'].apply(gs.format_duration)\n",
    "  df6 = df6.reset_index()\n",
    "\n",
    "  df6s = df6.style.set_properties(**{'text-align': 'left'}, subset=pd.IndexSlice[:, ['issue_title']])\n",
    "  display(df6s)\n",
    "    \n",
    "  display(Markdown('#### Total: %.2f' %(total_cost)))\n",
    "  print('')"
   ]
  },
  {
   "cell_type": "code",
   "execution_count": null,
   "metadata": {},
   "outputs": [],
   "source": []
  },
  {
   "cell_type": "code",
   "execution_count": null,
   "metadata": {},
   "outputs": [],
   "source": []
  },
  {
   "cell_type": "code",
   "execution_count": null,
   "metadata": {},
   "outputs": [],
   "source": []
  },
  {
   "cell_type": "code",
   "execution_count": null,
   "metadata": {},
   "outputs": [],
   "source": []
  }
 ],
 "metadata": {
  "kernelspec": {
   "display_name": "Python 3",
   "language": "python",
   "name": "python3"
  },
  "language_info": {
   "codemirror_mode": {
    "name": "ipython",
    "version": 3
   },
   "file_extension": ".py",
   "mimetype": "text/x-python",
   "name": "python",
   "nbconvert_exporter": "python",
   "pygments_lexer": "ipython3",
   "version": "3.8.3"
  }
 },
 "nbformat": 4,
 "nbformat_minor": 4
}
